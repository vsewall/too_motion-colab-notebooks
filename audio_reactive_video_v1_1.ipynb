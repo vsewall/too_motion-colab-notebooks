{
  "cells": [
    {
      "cell_type": "markdown",
      "metadata": {
        "id": "view-in-github",
        "colab_type": "text"
      },
      "source": [
        "<a href=\"https://colab.research.google.com/github/vsewall/too_motion-colab-notebooks/blob/main/audio_reactive_video_v1_1.ipynb\" target=\"_parent\"><img src=\"https://colab.research.google.com/assets/colab-badge.svg\" alt=\"Open In Colab\"/></a>"
      ]
    },
    {
      "cell_type": "markdown",
      "source": [
        "#With this notebook, you can turn any video into **audio-reactive**.\n",
        "##how it works: the volume of the sound affects the speed of the video. quiet sound - normal speed, loud sound - the speed is higher. this means that the final video will be shorter than the original one anyway. be sure to pay attention to the output messages in the cell where a list of selected frames is created. try playing with the slider, it affects the dynamics. if there aren't enough frames, you can try slowing down the original video.\n",
        "\n",
        "---\n",
        "###telegram: [тоже моушн](https://t.me/too_motion) \n",
        "![visitors](https://visitor-badge.glitch.me/badge?page_id=vsewall2motion_audio-reactive-video)"
      ],
      "metadata": {
        "id": "I6Ah5LA4NXFy"
      }
    },
    {
      "cell_type": "code",
      "execution_count": null,
      "metadata": {
        "cellView": "form",
        "id": "CvzUZUUvXrSA"
      },
      "outputs": [],
      "source": [
        "#@markdown ##use google drive\n",
        "use_drive = True #@param {type:\"boolean\"}\n",
        "\n",
        "# create paths for frames\n",
        "import os\n",
        "imgs_path_in = \"/content/video_frames\"\n",
        "imgs_path_out = \"/content/selected_frames\"\n",
        "paths_to_create = [imgs_path_in, imgs_path_out]\n",
        "for path in paths_to_create:  \n",
        "  if not os.path.exists(path):\n",
        "    os.mkdir(path)\n",
        "\n",
        "#from IPython.display import clear_output\n",
        "if use_drive:\n",
        "  from google.colab import drive\n",
        "  drive.mount('/content/drive')"
      ]
    },
    {
      "cell_type": "code",
      "execution_count": null,
      "metadata": {
        "cellView": "form",
        "id": "3gVcpuGmh2Zy"
      },
      "outputs": [],
      "source": [
        "#@markdown ##find your files and copy the paths here\n",
        "\n",
        "path_to_video = \"/content/drive/MyDrive/video.mp4\" #@param {type:\"string\"}\n",
        "path_to_audio = \"/content/drive/MyDrive/music.mp3\" #@param {type:\"string\"}"
      ]
    },
    {
      "cell_type": "code",
      "execution_count": null,
      "metadata": {
        "cellView": "form",
        "id": "RUKx1iUO5UNc"
      },
      "outputs": [],
      "source": [
        "#@markdown ##split video by frames\n",
        "\n",
        "import cv2\n",
        "vid_fps = round(cv2.VideoCapture(path_to_video).get(cv2.CAP_PROP_FPS))\n",
        "total_frames = int(cv2.VideoCapture(path_to_video).get(cv2.CAP_PROP_FRAME_COUNT))\n",
        "\n",
        "print(\"input video has\", vid_fps, \"fps and consists of\", total_frames, \"frames\")\n",
        "print(\"process of splitting\")\n",
        "\n",
        "# splitting video\n",
        "!ffmpeg -i $path_to_video /content/video_frames/%7d.png -hide_banner -loglevel error\n",
        "\n",
        "print(\"done!\")\n",
        "\n",
        "\n",
        "\n"
      ]
    },
    {
      "cell_type": "code",
      "execution_count": null,
      "metadata": {
        "cellView": "form",
        "id": "ZiAtZbsWhwl7"
      },
      "outputs": [],
      "source": [
        "#@markdown ##render sound volume\n",
        "#@markdown the whole track or just a fragment?\n",
        "audio_fragment = True #@param {type:\"boolean\"}\n",
        "#@markdown set the beginning of the audio and the duration of the fragment in seconds\n",
        "\n",
        "import numpy as np\n",
        "from scipy.io import wavfile\n",
        "import matplotlib.pyplot as plt\n",
        "from IPython.display import clear_output\n",
        "\n",
        "audio_start =  0#@param {type:\"number\"}\n",
        "audio_duration =  10#@param {type:\"number\"}\n",
        "\n",
        "if os.path.exists('./temp_audio.wav'):\n",
        "  !rm './temp_audio.wav'\n",
        "\n",
        "# work with audio\n",
        "try:\n",
        "  rate, signal = wavfile.read(path_to_audio)\n",
        "  signal = np.mean(signal, axis=1)\n",
        "except:\n",
        "  import moviepy.editor as mpy\n",
        "  audio_clip = mpy.AudioFileClip(path_to_audio)\n",
        "  if audio_fragment:\n",
        "    audio_clip = audio_clip.subclip(audio_start, audio_start+audio_duration)  \n",
        "  audio_clip.write_audiofile('./temp_audio.wav', fps=44100, nbytes=2, codec='pcm_s16le')\n",
        "  rate, signal = wavfile.read('./temp_audio.wav')\n",
        "  signal = np.mean(signal, axis=1)\n",
        "\n",
        "clear_output()\n",
        "\n",
        "signal = np.abs(signal)\n",
        "duration = signal.shape[0] / rate\n",
        "frames = int(np.ceil(duration * vid_fps))\n",
        "samples_per_frame = signal.shape[0] / frames\n",
        "\n",
        "volume = [] ###\n",
        "\n",
        "for frame in range(frames):\n",
        "  start = int(round(frame * samples_per_frame))\n",
        "  stop = int(round((frame + 1) * samples_per_frame))\n",
        "  v = np.mean(signal[start:stop], axis=0)\n",
        "  volume.append(v) ###\n",
        "\n",
        "###\n",
        "volume_max = max(volume)\n",
        "for i in range(frames):\n",
        "  volume[i] = round(volume[i] / volume_max,3)\n",
        "###\n",
        "\n",
        "# visualise the waveform\n",
        "plt.figure(figsize=(15,3))\n",
        "plt.plot(volume, color=\"blue\", alpha=.7)\n",
        "plt.ylim((0, 1))\n",
        "\n",
        "plt.show()\n",
        "\n",
        "print(\"output video will be\", frames, \"frames long\" )\n",
        "\n",
        "\n"
      ]
    },
    {
      "cell_type": "code",
      "execution_count": null,
      "metadata": {
        "cellView": "form",
        "id": "7h7eaZ0TCuk2"
      },
      "outputs": [],
      "source": [
        "#@markdown ##create list of selected frames\n",
        "\n",
        "#import random\n",
        "import math\n",
        "\n",
        "# get frames\n",
        "frames_to_process_names = [f for f in os.listdir(imgs_path_in) if os.path.isfile(os.path.join(imgs_path_in, f))]\n",
        "frames_to_process_names.sort()\n",
        "\n",
        "num_frames = len(frames_to_process_names)\n",
        "\n",
        "out_frames = []\n",
        "\n",
        "### SPEED MAP ###\n",
        "speed_multiply = 1 #@param {type:\"slider\", min:0.05, max:1.2, step:0.05}\n",
        "my_speed_map = [1,1,2,4,8,9,10,10,10,10]\n",
        "speed_map = []\n",
        "\n",
        "for i in my_speed_map:\n",
        "  i = math.ceil(i * speed_multiply)\n",
        "  speed_map.append(i)\n",
        "\n",
        "#print(speed_map)\n",
        "#speed_map = [1,1,2,4,8,9,10,10,10,10]\n",
        "speed_num_vars = len(speed_map)\n",
        "\n",
        "\n",
        "###\n",
        "frame_count = 0\n",
        "for i, v in enumerate(volume):\n",
        "  \n",
        "  if i > num_frames:\n",
        "    break\n",
        "\n",
        "  v = volume[i] # 0...1\n",
        "  \n",
        "  # get speed from speed map depending on volume value (that is range 0...1)    \n",
        "  idx = v * speed_num_vars            ### extend 0...1 to 0...N-1 (N is len of values of speed map)\n",
        "  idx = math.floor(idx)               ### correct index\n",
        "  idx = min(idx, speed_num_vars-1)    ###\n",
        "  speed = speed_map[idx]              ### take speed by index\n",
        "\n",
        "  frame_count += speed\n",
        "\n",
        "  if frame_count > num_frames:\n",
        "    break\n",
        "  \n",
        "  out_frames.append(frames_to_process_names[frame_count-1])\n",
        "###\n",
        "\n",
        "if len(out_frames) < frames:\n",
        "  print(\"WARNING! not enough frames...\")\n",
        "  print(\"only\", len(out_frames), \"frames are ready to be copied\")\n",
        "  print(\"try to decrease speed_multiply or the duration of the audio\")\n",
        "else:\n",
        "  print(len(out_frames), \"frames are ready to be copied\")\n",
        "\n",
        "print(out_frames)\n"
      ]
    },
    {
      "cell_type": "code",
      "execution_count": null,
      "metadata": {
        "cellView": "form",
        "id": "-gYH9vg8mjX8"
      },
      "outputs": [],
      "source": [
        "#@markdown ##copy selected frames\n",
        "\n",
        "import os\n",
        "import glob\n",
        "\n",
        "files = glob.glob(imgs_path_out+'/*')\n",
        "for f in files:\n",
        "    os.remove(f)\n",
        "\n",
        "for i in out_frames:\n",
        "\n",
        "  print(i)\n",
        "  img_in = imgs_path_in + \"/\" + i\n",
        "  img_out = imgs_path_out + \"/\" + i\n",
        "\n",
        "  !cp $img_in -r $img_out\n",
        "\n",
        "clear_output()\n",
        "print(\"done!\")"
      ]
    },
    {
      "cell_type": "code",
      "execution_count": null,
      "metadata": {
        "cellView": "form",
        "id": "_Lq9VnV1VixL"
      },
      "outputs": [],
      "source": [
        "#@markdown ##create audio-reactive video\n",
        "download = True #@param {type:\"boolean\"}\n",
        "\n",
        "!ffmpeg -y -framerate $vid_fps -pattern_type glob -i $imgs_path_out\"/*.png\" -c:v libx264  -r $vid_fps -pix_fmt yuv420p /content/temp_video.mp4 -hide_banner -loglevel error\n",
        "!ffmpeg -y -i /content/temp_video.mp4 -i /content/temp_audio.wav -map 0:v -map 1:a -c:v copy -shortest /content/OUT_audio-reactive-video.mp4 -hide_banner -loglevel error\n",
        "\n",
        "print(\"video is ready\")\n",
        "\n",
        "from google.colab import output, files\n",
        "\n",
        "if download:\n",
        "  files.download(\"/content/OUT_audio-reactive-video.mp4\")\n",
        "else:\n",
        "  print(\"look for 'OUT_audio-reactive-video.mp4' on the left in the file panel\")\n",
        "\n",
        "\n",
        "\n",
        "\n",
        "\n",
        "\n",
        "\n"
      ]
    }
  ],
  "metadata": {
    "colab": {
      "collapsed_sections": [],
      "name": "audio-reactive-video_v1.1.ipynb",
      "provenance": [],
      "include_colab_link": true
    },
    "kernelspec": {
      "display_name": "Python 3",
      "name": "python3"
    },
    "language_info": {
      "name": "python"
    }
  },
  "nbformat": 4,
  "nbformat_minor": 0
}